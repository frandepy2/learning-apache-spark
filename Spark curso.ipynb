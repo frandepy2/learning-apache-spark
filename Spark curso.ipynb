{
 "cells": [
  {
   "cell_type": "markdown",
   "id": "6b9b282c-d0c3-4157-9bd3-7e11e1af0ecc",
   "metadata": {},
   "source": [
    "# Curso de Spark parte 1"
   ]
  },
  {
   "cell_type": "code",
   "execution_count": 1,
   "id": "b370bab3-cf2b-4543-97aa-9deca9605f1c",
   "metadata": {},
   "outputs": [],
   "source": [
    "import findspark\n",
    "findspark.init()\n",
    "\n",
    "import pandas as pd\n",
    "import pyspark"
   ]
  },
  {
   "cell_type": "code",
   "execution_count": 2,
   "id": "792817b5-5767-44ce-ad66-fc159264e18b",
   "metadata": {},
   "outputs": [],
   "source": [
    "from pyspark.sql import SparkSession\n",
    "from pyspark.sql.functions import *"
   ]
  },
  {
   "cell_type": "code",
   "execution_count": 3,
   "id": "353156c9-0977-4bf6-a33a-fe26c914458d",
   "metadata": {},
   "outputs": [],
   "source": [
    "spark = SparkSession.builder.getOrCreate()"
   ]
  },
  {
   "cell_type": "code",
   "execution_count": 4,
   "id": "5b04fff1-225f-439e-886c-bd11a582bf2f",
   "metadata": {},
   "outputs": [],
   "source": [
    "emp = [(1, \"AAA\", \"dept1\", 1000),\n",
    "    (2, \"BBB\", \"dept1\", 1100),\n",
    "    (3, \"CCC\", \"dept1\", 3000),\n",
    "    (4, \"DDD\", \"dept1\", 1500),\n",
    "    (5, \"EEE\", \"dept2\", 8000),\n",
    "    (6, \"FFF\", \"dept2\", 7200),\n",
    "    (7, \"GGG\", \"dept3\", 7100),\n",
    "    (8, \"HHH\", \"dept3\", 3700),\n",
    "    (9, \"III\", \"dept3\", 4500),\n",
    "    (10, \"JJJ\", \"dept5\", 3400)]\n",
    "\n",
    "dept = [(\"dept1\", \"Department - 1\"),\n",
    "        (\"dept2\", \"Department - 2\"),\n",
    "        (\"dept3\", \"Department - 3\"),\n",
    "        (\"dept4\", \"Department - 4\")\n",
    "\n",
    "       ]\n",
    "\n",
    "df = spark.createDataFrame(emp, [\"id\", \"name\", \"dept\", \"salary\"])\n",
    "\n",
    "deptdf = spark.createDataFrame(dept, [\"id\", \"name\"])"
   ]
  },
  {
   "cell_type": "code",
   "execution_count": 5,
   "id": "1829aac4-e9fe-41f7-9cc8-97e139976804",
   "metadata": {},
   "outputs": [
    {
     "name": "stdout",
     "output_type": "stream",
     "text": [
      "+---+----+-----+------+\n",
      "| id|name| dept|salary|\n",
      "+---+----+-----+------+\n",
      "|  1| AAA|dept1|  1000|\n",
      "|  2| BBB|dept1|  1100|\n",
      "|  3| CCC|dept1|  3000|\n",
      "|  4| DDD|dept1|  1500|\n",
      "|  5| EEE|dept2|  8000|\n",
      "|  6| FFF|dept2|  7200|\n",
      "|  7| GGG|dept3|  7100|\n",
      "|  8| HHH|dept3|  3700|\n",
      "|  9| III|dept3|  4500|\n",
      "| 10| JJJ|dept5|  3400|\n",
      "+---+----+-----+------+\n",
      "\n"
     ]
    }
   ],
   "source": [
    "df.show()"
   ]
  },
  {
   "cell_type": "code",
   "execution_count": 6,
   "id": "d85af7fa-35f4-497d-890f-de60ee93c834",
   "metadata": {},
   "outputs": [
    {
     "name": "stdout",
     "output_type": "stream",
     "text": [
      "+-----+--------------+\n",
      "|   id|          name|\n",
      "+-----+--------------+\n",
      "|dept1|Department - 1|\n",
      "|dept2|Department - 2|\n",
      "|dept3|Department - 3|\n",
      "|dept4|Department - 4|\n",
      "+-----+--------------+\n",
      "\n"
     ]
    }
   ],
   "source": [
    "deptdf.show()"
   ]
  },
  {
   "cell_type": "markdown",
   "id": "1fed7190-a350-41da-b81a-48f689172298",
   "metadata": {},
   "source": [
    "# Operaciones con los dataframes\n",
    "## count: Cuenta los numeros finales"
   ]
  },
  {
   "cell_type": "code",
   "execution_count": 7,
   "id": "9e78ce12-73dd-46e2-ac46-8ad7020b3163",
   "metadata": {},
   "outputs": [
    {
     "data": {
      "text/plain": [
       "10"
      ]
     },
     "execution_count": 7,
     "metadata": {},
     "output_type": "execute_result"
    }
   ],
   "source": [
    "df.count()"
   ]
  },
  {
   "cell_type": "markdown",
   "id": "086c93d5-af69-418d-af03-307cfc666959",
   "metadata": {},
   "source": [
    "## Columns : Muestra las columnas"
   ]
  },
  {
   "cell_type": "code",
   "execution_count": 8,
   "id": "ab5d0c83-3650-4b87-b93e-a475c838dda6",
   "metadata": {},
   "outputs": [
    {
     "data": {
      "text/plain": [
       "['id', 'name', 'dept', 'salary']"
      ]
     },
     "execution_count": 8,
     "metadata": {},
     "output_type": "execute_result"
    }
   ],
   "source": [
    "df.columns"
   ]
  },
  {
   "cell_type": "markdown",
   "id": "e770f3f1-672c-473f-b7b9-9b9a3885ab6c",
   "metadata": {},
   "source": [
    "## Dtypes: Accede al dataType de columnas dentro del dataframe"
   ]
  },
  {
   "cell_type": "code",
   "execution_count": 9,
   "id": "09750895-8b7d-4e56-b1f7-c940cd3226d3",
   "metadata": {},
   "outputs": [
    {
     "data": {
      "text/plain": [
       "[('id', 'bigint'),\n",
       " ('name', 'string'),\n",
       " ('dept', 'string'),\n",
       " ('salary', 'bigint')]"
      ]
     },
     "execution_count": 9,
     "metadata": {},
     "output_type": "execute_result"
    }
   ],
   "source": [
    "df.dtypes"
   ]
  },
  {
   "cell_type": "code",
   "execution_count": 10,
   "id": "2bfddee3-3353-4b1d-962a-2b3eabf63918",
   "metadata": {},
   "outputs": [
    {
     "data": {
      "text/plain": [
       "StructType([StructField('id', LongType(), True), StructField('name', StringType(), True), StructField('dept', StringType(), True), StructField('salary', LongType(), True)])"
      ]
     },
     "execution_count": 10,
     "metadata": {},
     "output_type": "execute_result"
    }
   ],
   "source": [
    "# Schema: Comprueba como spark almacena el esquema del dataframe\n",
    "\n",
    "df.schema"
   ]
  },
  {
   "cell_type": "code",
   "execution_count": 11,
   "id": "a3833322-98de-419e-9231-b0dcf50734b2",
   "metadata": {},
   "outputs": [
    {
     "name": "stdout",
     "output_type": "stream",
     "text": [
      "root\n",
      " |-- id: long (nullable = true)\n",
      " |-- name: string (nullable = true)\n",
      " |-- dept: string (nullable = true)\n",
      " |-- salary: long (nullable = true)\n",
      "\n"
     ]
    }
   ],
   "source": [
    "# Print Schema: Imprime lo anterior pero mas organizado\n",
    "\n",
    "df.printSchema()"
   ]
  },
  {
   "cell_type": "code",
   "execution_count": 12,
   "id": "288497e6-5115-46a0-ad7c-003645969024",
   "metadata": {},
   "outputs": [
    {
     "name": "stdout",
     "output_type": "stream",
     "text": [
      "+---+----+\n",
      "| id|name|\n",
      "+---+----+\n",
      "|  1| AAA|\n",
      "|  2| BBB|\n",
      "|  3| CCC|\n",
      "|  4| DDD|\n",
      "|  5| EEE|\n",
      "|  6| FFF|\n",
      "|  7| GGG|\n",
      "|  8| HHH|\n",
      "|  9| III|\n",
      "| 10| JJJ|\n",
      "+---+----+\n",
      "\n"
     ]
    }
   ],
   "source": [
    "# Select : Selecciona columnas de un dataframe\n",
    "\n",
    "df.select(\"id\", \"name\").show()"
   ]
  },
  {
   "cell_type": "code",
   "execution_count": 13,
   "id": "1e1819da-dd89-4da4-bb19-bcd1ae68b142",
   "metadata": {},
   "outputs": [
    {
     "name": "stdout",
     "output_type": "stream",
     "text": [
      "+---+----+-----+------+\n",
      "| id|name| dept|salary|\n",
      "+---+----+-----+------+\n",
      "|  1| AAA|dept1|  1000|\n",
      "+---+----+-----+------+\n",
      "\n",
      "+---+----+-----+------+\n",
      "| id|name| dept|salary|\n",
      "+---+----+-----+------+\n",
      "|  1| AAA|dept1|  1000|\n",
      "+---+----+-----+------+\n",
      "\n",
      "+---+----+-----+------+\n",
      "| id|name| dept|salary|\n",
      "+---+----+-----+------+\n",
      "|  1| AAA|dept1|  1000|\n",
      "+---+----+-----+------+\n",
      "\n",
      "+---+----+-----+------+\n",
      "| id|name| dept|salary|\n",
      "+---+----+-----+------+\n",
      "|  1| AAA|dept1|  1000|\n",
      "+---+----+-----+------+\n",
      "\n"
     ]
    }
   ],
   "source": [
    "# Filter: Filtra las filas segun una condicion.\n",
    "# Intentemos encontrar las filas con id= 1\n",
    "# Hay diferentes formas de especificar la condicion\n",
    "\n",
    "# Forma 1\n",
    "df.filter(df[\"id\"] == 1).show()\n",
    "\n",
    "# Forma 2\n",
    "df.filter(df.id == 1).show()\n",
    "\n",
    "# Forma 3\n",
    "df.filter(col(\"id\")== 1).show()\n",
    "\n",
    "# Forma 4\n",
    "df.filter(\"id = 1\").show()"
   ]
  },
  {
   "cell_type": "code",
   "execution_count": 14,
   "id": "feb0ef07-42cd-4188-9d4c-9dc887c61daa",
   "metadata": {},
   "outputs": [
    {
     "name": "stdout",
     "output_type": "stream",
     "text": [
      "+----+-----+------+\n",
      "|name| dept|salary|\n",
      "+----+-----+------+\n",
      "| AAA|dept1|  1000|\n",
      "| BBB|dept1|  1100|\n",
      "| CCC|dept1|  3000|\n",
      "| DDD|dept1|  1500|\n",
      "| EEE|dept2|  8000|\n",
      "| FFF|dept2|  7200|\n",
      "| GGG|dept3|  7100|\n",
      "| HHH|dept3|  3700|\n",
      "| III|dept3|  4500|\n",
      "| JJJ|dept5|  3400|\n",
      "+----+-----+------+\n",
      "\n"
     ]
    }
   ],
   "source": [
    "# DROP : Elimina una columna en particular\n",
    "\n",
    "newdf = df.drop(\"id\")\n",
    "newdf.show()"
   ]
  },
  {
   "cell_type": "code",
   "execution_count": 15,
   "id": "71663ef1-162d-442f-a37c-eb4156a9bcd9",
   "metadata": {},
   "outputs": [
    {
     "name": "stdout",
     "output_type": "stream",
     "text": [
      "+-----+-----+-----+------+------+--------+\n",
      "| dept|count|total|minimo|maximo|promedio|\n",
      "+-----+-----+-----+------+------+--------+\n",
      "|dept1|    4| 6600|  1000|  3000|  1650.0|\n",
      "|dept2|    2|15200|  7200|  8000|  7600.0|\n",
      "|dept3|    3|15300|  3700|  7100|  5100.0|\n",
      "|dept5|    1| 3400|  3400|  3400|  3400.0|\n",
      "+-----+-----+-----+------+------+--------+\n",
      "\n"
     ]
    }
   ],
   "source": [
    "# Agregaciones: Podemos usar la funcion groupBy para agrupar los datos y luego \"agg\" para realizar la agregacion de los datos agrupados\n",
    "\n",
    "(df.groupBy(\"dept\")\n",
    "     .agg(\n",
    "         count(\"salary\").alias(\"count\"),\n",
    "         sum(\"salary\").alias(\"total\"),\n",
    "         min(\"salary\").alias(\"minimo\"),\n",
    "         max(\"salary\").alias(\"maximo\"),\n",
    "         avg(\"salary\").alias(\"promedio\")\n",
    "     ).show()\n",
    "    \n",
    ")"
   ]
  },
  {
   "cell_type": "code",
   "execution_count": 16,
   "id": "f7865e5a-7147-4f4d-a374-f5c852b25791",
   "metadata": {},
   "outputs": [
    {
     "name": "stdout",
     "output_type": "stream",
     "text": [
      "+---+----+-----+------+\n",
      "| id|name| dept|salary|\n",
      "+---+----+-----+------+\n",
      "|  1| AAA|dept1|  1000|\n",
      "|  2| BBB|dept1|  1100|\n",
      "|  4| DDD|dept1|  1500|\n",
      "|  3| CCC|dept1|  3000|\n",
      "| 10| JJJ|dept5|  3400|\n",
      "|  8| HHH|dept3|  3700|\n",
      "|  9| III|dept3|  4500|\n",
      "|  7| GGG|dept3|  7100|\n",
      "|  6| FFF|dept2|  7200|\n",
      "|  5| EEE|dept2|  8000|\n",
      "+---+----+-----+------+\n",
      "\n"
     ]
    }
   ],
   "source": [
    "# Sorting : Sirve para ordenar una tabla de acuerdo a una columna dada\n",
    "\n",
    "df.sort(\"salary\").show()"
   ]
  },
  {
   "cell_type": "code",
   "execution_count": 17,
   "id": "f8872f50-b010-4e32-8655-3e8e7cf7990d",
   "metadata": {},
   "outputs": [
    {
     "name": "stdout",
     "output_type": "stream",
     "text": [
      "+---+----+-----+------+\n",
      "| id|name| dept|salary|\n",
      "+---+----+-----+------+\n",
      "|  5| EEE|dept2|  8000|\n",
      "|  6| FFF|dept2|  7200|\n",
      "|  7| GGG|dept3|  7100|\n",
      "|  9| III|dept3|  4500|\n",
      "|  8| HHH|dept3|  3700|\n",
      "+---+----+-----+------+\n",
      "only showing top 5 rows\n",
      "\n"
     ]
    }
   ],
   "source": [
    "# Se puede ordenar de manera desendente tambien\n",
    "df.sort(desc(\"salary\")).show(5)"
   ]
  },
  {
   "cell_type": "code",
   "execution_count": 18,
   "id": "9efd22e8-bbf4-42cb-af6e-df0ee162a938",
   "metadata": {},
   "outputs": [
    {
     "name": "stdout",
     "output_type": "stream",
     "text": [
      "+---+----+-----+------+-----+------+\n",
      "| id|name| dept|salary|bonus| total|\n",
      "+---+----+-----+------+-----+------+\n",
      "|  1| AAA|dept1|  1000|100.0|1100.0|\n",
      "|  2| BBB|dept1|  1100|110.0|1210.0|\n",
      "|  3| CCC|dept1|  3000|300.0|3300.0|\n",
      "|  4| DDD|dept1|  1500|150.0|1650.0|\n",
      "|  5| EEE|dept2|  8000|800.0|8800.0|\n",
      "|  6| FFF|dept2|  7200|720.0|7920.0|\n",
      "|  7| GGG|dept3|  7100|710.0|7810.0|\n",
      "|  8| HHH|dept3|  3700|370.0|4070.0|\n",
      "|  9| III|dept3|  4500|450.0|4950.0|\n",
      "| 10| JJJ|dept5|  3400|340.0|3740.0|\n",
      "+---+----+-----+------+-----+------+\n",
      "\n"
     ]
    }
   ],
   "source": [
    "# Columnas derivadas, se puede generar a partir de una funcion por columnas existentes\n",
    "df.withColumn(\"bonus\", col(\"salary\") * .1).withColumn(\"total\", col(\"bonus\") + col(\"salary\")).show()"
   ]
  },
  {
   "cell_type": "code",
   "execution_count": 19,
   "id": "0e4a80f7-d74a-4fff-b356-b0e28e4e18d1",
   "metadata": {},
   "outputs": [
    {
     "name": "stdout",
     "output_type": "stream",
     "text": [
      "+---+----+-----+------+-----+--------------+\n",
      "| id|name| dept|salary|   id|          name|\n",
      "+---+----+-----+------+-----+--------------+\n",
      "|  1| AAA|dept1|  1000|dept1|Department - 1|\n",
      "|  2| BBB|dept1|  1100|dept1|Department - 1|\n",
      "|  3| CCC|dept1|  3000|dept1|Department - 1|\n",
      "|  4| DDD|dept1|  1500|dept1|Department - 1|\n",
      "|  5| EEE|dept2|  8000|dept2|Department - 2|\n",
      "|  6| FFF|dept2|  7200|dept2|Department - 2|\n",
      "|  7| GGG|dept3|  7100|dept3|Department - 3|\n",
      "|  8| HHH|dept3|  3700|dept3|Department - 3|\n",
      "|  9| III|dept3|  4500|dept3|Department - 3|\n",
      "+---+----+-----+------+-----+--------------+\n",
      "\n"
     ]
    }
   ],
   "source": [
    "# JOINS : Se puede hacer JOINS para guardar los datos \n",
    "## Inner Join : Union total de los datos la cuales tienenm datos convinados, en este caso, no se puede agregar datos de \n",
    "df.join(deptdf, df[\"dept\"] == deptdf[\"id\"]).show()"
   ]
  },
  {
   "cell_type": "code",
   "execution_count": 20,
   "id": "c9a6e88c-5a3b-4d33-8621-0a1ac9e8e5d5",
   "metadata": {},
   "outputs": [
    {
     "name": "stdout",
     "output_type": "stream",
     "text": [
      "+----+----+-----+------+-----+--------------+\n",
      "|  id|name| dept|salary|   id|          name|\n",
      "+----+----+-----+------+-----+--------------+\n",
      "|   4| DDD|dept1|  1500|dept1|Department - 1|\n",
      "|   3| CCC|dept1|  3000|dept1|Department - 1|\n",
      "|   2| BBB|dept1|  1100|dept1|Department - 1|\n",
      "|   1| AAA|dept1|  1000|dept1|Department - 1|\n",
      "|   6| FFF|dept2|  7200|dept2|Department - 2|\n",
      "|   5| EEE|dept2|  8000|dept2|Department - 2|\n",
      "|   9| III|dept3|  4500|dept3|Department - 3|\n",
      "|   8| HHH|dept3|  3700|dept3|Department - 3|\n",
      "|   7| GGG|dept3|  7100|dept3|Department - 3|\n",
      "|NULL|NULL| NULL|  NULL|dept4|Department - 4|\n",
      "+----+----+-----+------+-----+--------------+\n",
      "\n"
     ]
    }
   ],
   "source": [
    "# Left Join: Hace un join de los datos a partir de la izquierda\n",
    "\n",
    "df.join(deptdf,df[\"dept\"] == deptdf[\"id\"], \"right_outer\").show()"
   ]
  },
  {
   "cell_type": "code",
   "execution_count": 21,
   "id": "8e198dc6-701d-4db9-bbbe-8511b425ca0e",
   "metadata": {},
   "outputs": [
    {
     "name": "stdout",
     "output_type": "stream",
     "text": [
      "+----+----+-----+------+-----+--------------+\n",
      "|  id|name| dept|salary|   id|          name|\n",
      "+----+----+-----+------+-----+--------------+\n",
      "|   1| AAA|dept1|  1000|dept1|Department - 1|\n",
      "|   2| BBB|dept1|  1100|dept1|Department - 1|\n",
      "|   3| CCC|dept1|  3000|dept1|Department - 1|\n",
      "|   4| DDD|dept1|  1500|dept1|Department - 1|\n",
      "|   5| EEE|dept2|  8000|dept2|Department - 2|\n",
      "|   6| FFF|dept2|  7200|dept2|Department - 2|\n",
      "|   7| GGG|dept3|  7100|dept3|Department - 3|\n",
      "|   8| HHH|dept3|  3700|dept3|Department - 3|\n",
      "|   9| III|dept3|  4500|dept3|Department - 3|\n",
      "|NULL|NULL| NULL|  NULL|dept4|Department - 4|\n",
      "|  10| JJJ|dept5|  3400| NULL|          NULL|\n",
      "+----+----+-----+------+-----+--------------+\n",
      "\n"
     ]
    }
   ],
   "source": [
    "# Right Join\n",
    "df.join(deptdf, df[\"dept\"] == deptdf[\"id\"], \"outer\").show()"
   ]
  },
  {
   "cell_type": "code",
   "execution_count": 22,
   "id": "6a490f01-777e-469c-819e-e089c313052d",
   "metadata": {},
   "outputs": [
    {
     "name": "stdout",
     "output_type": "stream",
     "text": [
      "+---+----+-----+------+\n",
      "| id|name| dept|salary|\n",
      "+---+----+-----+------+\n",
      "|  1| AAA|dept1|  1000|\n",
      "+---+----+-----+------+\n",
      "\n"
     ]
    }
   ],
   "source": [
    "# Consultas SQL \n",
    "\n",
    "df.createOrReplaceTempView(\"temp_table\")\n",
    "\n",
    "spark.sql(\"select * from temp_table where id = 1\").show()\n"
   ]
  },
  {
   "cell_type": "code",
   "execution_count": null,
   "id": "307745cb-e20f-429f-875d-60e1b8e634e8",
   "metadata": {},
   "outputs": [],
   "source": []
  }
 ],
 "metadata": {
  "kernelspec": {
   "display_name": "Python 3 (ipykernel)",
   "language": "python",
   "name": "python3"
  },
  "language_info": {
   "codemirror_mode": {
    "name": "ipython",
    "version": 3
   },
   "file_extension": ".py",
   "mimetype": "text/x-python",
   "name": "python",
   "nbconvert_exporter": "python",
   "pygments_lexer": "ipython3",
   "version": "3.12.3"
  }
 },
 "nbformat": 4,
 "nbformat_minor": 5
}
